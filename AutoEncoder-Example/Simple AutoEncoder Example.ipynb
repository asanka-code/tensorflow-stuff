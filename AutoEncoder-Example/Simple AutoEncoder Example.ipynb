{
 "cells": [
  {
   "cell_type": "markdown",
   "metadata": {},
   "source": [
    "## AutoEncoder Example\n",
    "Reference: https://blog.keras.io/building-autoencoders-in-keras.html\n",
    "\n",
    "- An Autoencoder model has three important components. The encoder side, the autoencoder in the middle, and a deocoder side. Therefore we have three models representing each component of the whole network.\n",
    "\n",
    "![alt text](autoencoder_schema.jpg)"
   ]
  },
  {
   "cell_type": "markdown",
   "metadata": {},
   "source": [
    "### Importing required libraries"
   ]
  },
  {
   "cell_type": "code",
   "execution_count": 1,
   "metadata": {},
   "outputs": [],
   "source": [
    "from tensorflow.keras.layers import Input, Dense\n",
    "from tensorflow.keras.models import Model\n",
    "from tensorflow.keras.datasets import mnist\n",
    "import numpy as np"
   ]
  },
  {
   "cell_type": "markdown",
   "metadata": {},
   "source": [
    "### Implementing components of the AutoEncoder\n",
    "\n",
    "We have three models within the autoencoder setup."
   ]
  },
  {
   "cell_type": "code",
   "execution_count": 2,
   "metadata": {},
   "outputs": [
    {
     "name": "stdout",
     "output_type": "stream",
     "text": [
      "WARNING:tensorflow:From /home/asanka/anaconda3/lib/python3.7/site-packages/tensorflow/python/ops/resource_variable_ops.py:435: colocate_with (from tensorflow.python.framework.ops) is deprecated and will be removed in a future version.\n",
      "Instructions for updating:\n",
      "Colocations handled automatically by placer.\n"
     ]
    }
   ],
   "source": [
    "# this is the size of our encoded representations\n",
    "encoding_dim = 32  # 32 floats -> compression of factor 24.5, assuming the input is 784 floats\n",
    "\n",
    "# this is our input placeholder\n",
    "input_img = Input(shape=(784,))\n",
    "# \"encoded\" is the encoded representation of the input\n",
    "encoded = Dense(encoding_dim, activation='relu')(input_img)\n",
    "# \"decoded\" is the lossy reconstruction of the input\n",
    "decoded = Dense(784, activation='sigmoid')(encoded)\n",
    "\n",
    "# this model maps an input to its reconstruction\n",
    "autoencoder = Model(input_img, decoded)"
   ]
  },
  {
   "cell_type": "code",
   "execution_count": 3,
   "metadata": {},
   "outputs": [],
   "source": [
    "# this model maps an input to its encoded representation\n",
    "encoder = Model(input_img, encoded)"
   ]
  },
  {
   "cell_type": "code",
   "execution_count": 4,
   "metadata": {},
   "outputs": [],
   "source": [
    "# create a placeholder for an encoded (32-dimensional) input\n",
    "encoded_input = Input(shape=(encoding_dim,))\n",
    "# retrieve the last layer of the autoencoder model\n",
    "decoder_layer = autoencoder.layers[-1]\n",
    "# create the decoder model\n",
    "decoder = Model(encoded_input, decoder_layer(encoded_input))"
   ]
  },
  {
   "cell_type": "code",
   "execution_count": 5,
   "metadata": {},
   "outputs": [],
   "source": [
    "autoencoder.compile(optimizer='adadelta', loss='binary_crossentropy')"
   ]
  },
  {
   "cell_type": "code",
   "execution_count": 6,
   "metadata": {},
   "outputs": [],
   "source": [
    "(x_train, _), (x_test, _) = mnist.load_data()"
   ]
  },
  {
   "cell_type": "code",
   "execution_count": 7,
   "metadata": {},
   "outputs": [
    {
     "name": "stdout",
     "output_type": "stream",
     "text": [
      "(60000, 784)\n",
      "(10000, 784)\n"
     ]
    }
   ],
   "source": [
    "x_train = x_train.astype('float32') / 255.\n",
    "x_test = x_test.astype('float32') / 255.\n",
    "x_train = x_train.reshape((len(x_train), np.prod(x_train.shape[1:])))\n",
    "x_test = x_test.reshape((len(x_test), np.prod(x_test.shape[1:])))\n",
    "print(x_train.shape)\n",
    "print(x_test.shape)"
   ]
  },
  {
   "cell_type": "code",
   "execution_count": 8,
   "metadata": {},
   "outputs": [
    {
     "name": "stdout",
     "output_type": "stream",
     "text": [
      "Train on 60000 samples, validate on 10000 samples\n",
      "WARNING:tensorflow:From /home/asanka/anaconda3/lib/python3.7/site-packages/tensorflow/python/ops/math_ops.py:3066: to_int32 (from tensorflow.python.ops.math_ops) is deprecated and will be removed in a future version.\n",
      "Instructions for updating:\n",
      "Use tf.cast instead.\n",
      "Epoch 1/50\n",
      "60000/60000 [==============================] - 3s 55us/sample - loss: 0.3566 - val_loss: 0.2696\n",
      "Epoch 2/50\n",
      "60000/60000 [==============================] - 3s 57us/sample - loss: 0.2612 - val_loss: 0.2489\n",
      "Epoch 3/50\n",
      "60000/60000 [==============================] - 3s 46us/sample - loss: 0.2381 - val_loss: 0.2254\n",
      "Epoch 4/50\n",
      "60000/60000 [==============================] - 4s 63us/sample - loss: 0.2175 - val_loss: 0.2076\n",
      "Epoch 5/50\n",
      "60000/60000 [==============================] - 5s 77us/sample - loss: 0.2025 - val_loss: 0.1951\n",
      "Epoch 6/50\n",
      "60000/60000 [==============================] - 3s 44us/sample - loss: 0.1916 - val_loss: 0.1856\n",
      "Epoch 7/50\n",
      "60000/60000 [==============================] - 3s 43us/sample - loss: 0.1831 - val_loss: 0.1780\n",
      "Epoch 8/50\n",
      "60000/60000 [==============================] - 2s 41us/sample - loss: 0.1763 - val_loss: 0.1718\n",
      "Epoch 9/50\n",
      "60000/60000 [==============================] - 2s 41us/sample - loss: 0.1706 - val_loss: 0.1666\n",
      "Epoch 10/50\n",
      "60000/60000 [==============================] - 2s 41us/sample - loss: 0.1656 - val_loss: 0.1621\n",
      "Epoch 11/50\n",
      "60000/60000 [==============================] - 3s 42us/sample - loss: 0.1612 - val_loss: 0.1577\n",
      "Epoch 12/50\n",
      "60000/60000 [==============================] - 3s 44us/sample - loss: 0.1571 - val_loss: 0.1539\n",
      "Epoch 13/50\n",
      "60000/60000 [==============================] - 2s 41us/sample - loss: 0.1533 - val_loss: 0.1502\n",
      "Epoch 14/50\n",
      "60000/60000 [==============================] - 2s 41us/sample - loss: 0.1498 - val_loss: 0.1467\n",
      "Epoch 15/50\n",
      "60000/60000 [==============================] - 2s 41us/sample - loss: 0.1466 - val_loss: 0.1437\n",
      "Epoch 16/50\n",
      "60000/60000 [==============================] - 2s 41us/sample - loss: 0.1436 - val_loss: 0.1407\n",
      "Epoch 17/50\n",
      "60000/60000 [==============================] - 3s 43us/sample - loss: 0.1408 - val_loss: 0.1380\n",
      "Epoch 18/50\n",
      "60000/60000 [==============================] - 4s 60us/sample - loss: 0.1382 - val_loss: 0.1355\n",
      "Epoch 19/50\n",
      "60000/60000 [==============================] - 3s 44us/sample - loss: 0.1357 - val_loss: 0.1330\n",
      "Epoch 20/50\n",
      "60000/60000 [==============================] - 3s 48us/sample - loss: 0.1334 - val_loss: 0.1307\n",
      "Epoch 21/50\n",
      "60000/60000 [==============================] - 3s 56us/sample - loss: 0.1312 - val_loss: 0.1285\n",
      "Epoch 22/50\n",
      "60000/60000 [==============================] - 3s 44us/sample - loss: 0.1290 - val_loss: 0.1265\n",
      "Epoch 23/50\n",
      "60000/60000 [==============================] - 2s 40us/sample - loss: 0.1270 - val_loss: 0.1245\n",
      "Epoch 24/50\n",
      "60000/60000 [==============================] - 3s 46us/sample - loss: 0.1251 - val_loss: 0.1227\n",
      "Epoch 25/50\n",
      "60000/60000 [==============================] - 2s 41us/sample - loss: 0.1233 - val_loss: 0.1210\n",
      "Epoch 26/50\n",
      "60000/60000 [==============================] - 3s 42us/sample - loss: 0.1216 - val_loss: 0.1193\n",
      "Epoch 27/50\n",
      "60000/60000 [==============================] - 3s 55us/sample - loss: 0.1200 - val_loss: 0.1177\n",
      "Epoch 28/50\n",
      "60000/60000 [==============================] - 2s 41us/sample - loss: 0.1185 - val_loss: 0.1163\n",
      "Epoch 29/50\n",
      "60000/60000 [==============================] - 2s 40us/sample - loss: 0.1171 - val_loss: 0.1149\n",
      "Epoch 30/50\n",
      "60000/60000 [==============================] - 2s 41us/sample - loss: 0.1159 - val_loss: 0.1137\n",
      "Epoch 31/50\n",
      "60000/60000 [==============================] - 3s 43us/sample - loss: 0.1147 - val_loss: 0.1126\n",
      "Epoch 32/50\n",
      "60000/60000 [==============================] - 2s 40us/sample - loss: 0.1136 - val_loss: 0.1115\n",
      "Epoch 33/50\n",
      "60000/60000 [==============================] - 3s 46us/sample - loss: 0.1125 - val_loss: 0.1105\n",
      "Epoch 34/50\n",
      "60000/60000 [==============================] - 2s 40us/sample - loss: 0.1116 - val_loss: 0.1096\n",
      "Epoch 35/50\n",
      "60000/60000 [==============================] - 2s 41us/sample - loss: 0.1107 - val_loss: 0.1087\n",
      "Epoch 36/50\n",
      "60000/60000 [==============================] - 2s 41us/sample - loss: 0.1099 - val_loss: 0.1079\n",
      "Epoch 37/50\n",
      "60000/60000 [==============================] - 2s 40us/sample - loss: 0.1092 - val_loss: 0.1072\n",
      "Epoch 38/50\n",
      "60000/60000 [==============================] - 3s 45us/sample - loss: 0.1084 - val_loss: 0.1065\n",
      "Epoch 39/50\n",
      "60000/60000 [==============================] - 3s 44us/sample - loss: 0.1078 - val_loss: 0.1059\n",
      "Epoch 40/50\n",
      "60000/60000 [==============================] - 3s 42us/sample - loss: 0.1072 - val_loss: 0.1053\n",
      "Epoch 41/50\n",
      "60000/60000 [==============================] - 3s 43us/sample - loss: 0.1066 - val_loss: 0.1047\n",
      "Epoch 42/50\n",
      "60000/60000 [==============================] - 2s 40us/sample - loss: 0.1061 - val_loss: 0.1042\n",
      "Epoch 43/50\n",
      "60000/60000 [==============================] - 3s 43us/sample - loss: 0.1056 - val_loss: 0.1037\n",
      "Epoch 44/50\n",
      "60000/60000 [==============================] - 3s 47us/sample - loss: 0.1051 - val_loss: 0.1033\n",
      "Epoch 45/50\n",
      "60000/60000 [==============================] - 3s 53us/sample - loss: 0.1047 - val_loss: 0.1029\n",
      "Epoch 46/50\n",
      "60000/60000 [==============================] - 2s 40us/sample - loss: 0.1043 - val_loss: 0.1025\n",
      "Epoch 47/50\n",
      "60000/60000 [==============================] - 2s 40us/sample - loss: 0.1039 - val_loss: 0.1021\n",
      "Epoch 48/50\n",
      "60000/60000 [==============================] - 2s 40us/sample - loss: 0.1036 - val_loss: 0.1018\n",
      "Epoch 49/50\n",
      "60000/60000 [==============================] - 2s 40us/sample - loss: 0.1032 - val_loss: 0.1015\n",
      "Epoch 50/50\n",
      "60000/60000 [==============================] - 3s 51us/sample - loss: 0.1029 - val_loss: 0.1011\n"
     ]
    },
    {
     "data": {
      "text/plain": [
       "<tensorflow.python.keras.callbacks.History at 0x7f85b8a529e8>"
      ]
     },
     "execution_count": 8,
     "metadata": {},
     "output_type": "execute_result"
    }
   ],
   "source": [
    "autoencoder.fit(x_train, x_train,\n",
    "                epochs=50,\n",
    "                batch_size=256,\n",
    "                shuffle=True,\n",
    "                validation_data=(x_test, x_test))"
   ]
  },
  {
   "cell_type": "code",
   "execution_count": 9,
   "metadata": {},
   "outputs": [
    {
     "name": "stdout",
     "output_type": "stream",
     "text": [
      "(10000, 32)\n",
      "(10000, 784)\n"
     ]
    }
   ],
   "source": [
    "# encode and decode some digits\n",
    "# note that we take them from the *test* set\n",
    "encoded_imgs = encoder.predict(x_test)\n",
    "decoded_imgs = decoder.predict(encoded_imgs)\n",
    "print(encoded_imgs.shape)\n",
    "print(decoded_imgs.shape)"
   ]
  },
  {
   "cell_type": "code",
   "execution_count": 10,
   "metadata": {},
   "outputs": [
    {
     "data": {
      "image/png": "[encoded data removed]",
      "text/plain": [
       "<Figure size 1440x288 with 20 Axes>"
      ]
     },
     "metadata": {
      "needs_background": "light"
     },
     "output_type": "display_data"
    }
   ],
   "source": [
    "# use Matplotlib (don't ask)\n",
    "%matplotlib inline\n",
    "import matplotlib.pyplot as plt\n",
    "\n",
    "n = 10  # how many digits we will display\n",
    "plt.figure(figsize=(20, 4))\n",
    "for i in range(n):\n",
    "    # display original\n",
    "    ax = plt.subplot(2, n, i + 1)\n",
    "    plt.imshow(x_test[i].reshape(28, 28))\n",
    "    plt.gray()\n",
    "    ax.get_xaxis().set_visible(False)\n",
    "    ax.get_yaxis().set_visible(False)\n",
    "\n",
    "    # display reconstruction\n",
    "    ax = plt.subplot(2, n, i + 1 + n)\n",
    "    plt.imshow(decoded_imgs[i].reshape(28, 28))\n",
    "    plt.gray()\n",
    "    ax.get_xaxis().set_visible(False)\n",
    "    ax.get_yaxis().set_visible(False)\n",
    "plt.show()"
   ]
  },
  {
   "cell_type": "code",
   "execution_count": null,
   "metadata": {},
   "outputs": [],
   "source": []
  }
 ],
 "metadata": {
  "kernelspec": {
   "display_name": "Python 3",
   "language": "python",
   "name": "python3"
  },
  "language_info": {
   "codemirror_mode": {
    "name": "ipython",
    "version": 3
   },
   "file_extension": ".py",
   "mimetype": "text/x-python",
   "name": "python",
   "nbconvert_exporter": "python",
   "pygments_lexer": "ipython3",
   "version": "3.7.2"
  }
 },
 "nbformat": 4,
 "nbformat_minor": 2
}
